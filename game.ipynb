{
 "cells": [
  {
   "cell_type": "markdown",
   "metadata": {},
   "source": [
    "# Define Class"
   ]
  },
  {
   "cell_type": "code",
   "execution_count": 8,
   "metadata": {},
   "outputs": [],
   "source": [
    "class Node(object):\n",
    "\n",
    "    def __init__(self, value = None, left=None, right=None, parent=None, turn=None, level = None):\n",
    "        self.value = value  # The node value\n",
    "        self.left = left    # Left child, meaning adding '0' to the string\n",
    "        self.right = right  # Right child, meaning adding '1' to the string\n",
    "        self.parent = parent # Parent\n",
    "        self.turn = turn # Paul = 1, Carole = -1\n",
    "        self.level = level # round\n",
    "\n",
    "\n",
    "    "
   ]
  },
  {
   "cell_type": "markdown",
   "metadata": {},
   "source": [
    "# Build Tree (with random values on leaves)"
   ]
  },
  {
   "cell_type": "code",
   "execution_count": 21,
   "metadata": {},
   "outputs": [],
   "source": [
    "def buildTree(node,t,l,n):\n",
    "    '''\n",
    "    input: a given leaf node, the next turn, the next level, the max level n\n",
    "    output: make an tree where the leaves have random number in [-1,+1] as value \n",
    "            and the interval nodes hold the value Paul or Carole will choose\n",
    "    '''\n",
    "    if l < n:\n",
    "        node.left = Node(turn = t,level = l, parent = node)\n",
    "        node.right = Node(turn = t,level = l, parent = node)\n",
    "                \n",
    "     #adding values to the leaves\n",
    "    if l == n: #leaf\n",
    "        node.value = random.uniform(-1,1)\n",
    "\n",
    "    else: #interval   \n",
    "        buildTree(node.left,t*(-1), l+1,n)\n",
    "        buildTree(node.right,t*(-1), l+1,n)\n",
    "\n",
    "        if node.turn == 1:\n",
    "            node.value = max(node.left.value,node.right.value)\n",
    "        else:\n",
    "            node.value = min(node.left.value,node.right.value)\n",
    "\n"
   ]
  },
  {
   "cell_type": "code",
   "execution_count": 22,
   "metadata": {},
   "outputs": [],
   "source": [
    "import random"
   ]
  },
  {
   "cell_type": "code",
   "execution_count": null,
   "metadata": {},
   "outputs": [],
   "source": [
    "root = Node(turn = 1, level = 0)\n",
    "t = -1 #t is the turn of next move\n",
    "l = 1 #l is the level of next move\n",
    "# n_lst = []\n",
    "# result_lst = []\n",
    "n = 99\n",
    "buildTree(root,t,l,n)\n",
    "        "
   ]
  },
  {
   "cell_type": "code",
   "execution_count": 28,
   "metadata": {},
   "outputs": [
    {
     "data": {
      "text/plain": [
       "0.23274201433989838"
      ]
     },
     "execution_count": 28,
     "metadata": {},
     "output_type": "execute_result"
    }
   ],
   "source": [
    "root.value"
   ]
  },
  {
   "cell_type": "markdown",
   "metadata": {},
   "source": [
    "# Solution2: Using List"
   ]
  },
  {
   "cell_type": "code",
   "execution_count": 8,
   "metadata": {},
   "outputs": [],
   "source": [
    "import gc\n",
    "import random\n",
    "gc.enable()"
   ]
  },
  {
   "cell_type": "code",
   "execution_count": 9,
   "metadata": {},
   "outputs": [],
   "source": [
    "def game(n, first = 1):\n",
    "    \"\"\"\n",
    "    input: n is the number of the rounds of the game.\n",
    "           first = 1 if Paul goes first, else -1\n",
    "    \"\"\"\n",
    "    \n",
    "    # determine who plays the last turn\n",
    "    \n",
    "    if n%2 == 0: # Carole\n",
    "        t = -1 \n",
    "    else: #Paul\n",
    "        t = 1 \n",
    "    #build a list of 2^n elements with the ramdonly assinged values\n",
    "    level_lst = [random.uniform(-1,1) for i in range(2**n)]\n",
    "#     print(level_lst)\n",
    "    \n",
    "    while len(level_lst)!=1:\n",
    "        new_lst = []\n",
    "        if t == 1: # maxmize value\n",
    "            for i in range(len(level_lst)//2):\n",
    "                new_lst.append(max(level_lst[2*i],level_lst[2*i+1]))\n",
    "            level_lst = new_lst\n",
    "        else: # minimize value\n",
    "            for i in range(len(level_lst)//2):\n",
    "                new_lst.append(min(level_lst[2*i],level_lst[2*i+1]))\n",
    "            level_lst = new_lst\n",
    "        t*=-1\n",
    "#         print(level_lst)\n",
    "        gc.collect()\n",
    "    return level_lst[0]\n",
    "                "
   ]
  },
  {
   "cell_type": "code",
   "execution_count": 10,
   "metadata": {},
   "outputs": [],
   "source": [
    "import matplotlib.pyplot as plt \n",
    "import numpy as np "
   ]
  },
  {
   "cell_type": "markdown",
   "metadata": {},
   "source": [
    "# Results"
   ]
  },
  {
   "cell_type": "markdown",
   "metadata": {},
   "source": [
    "## Plot for n$\\in[1,20]$"
   ]
  },
  {
   "cell_type": "code",
   "execution_count": 28,
   "metadata": {},
   "outputs": [],
   "source": [
    "n = np.arange(1,21,1)\n"
   ]
  },
  {
   "cell_type": "code",
   "execution_count": 29,
   "metadata": {},
   "outputs": [],
   "source": [
    "# for each n, we run game(n) for 5 times and calculate the mean to minimize the randomness\n",
    "result = np.array([sum([game(i) for j in range(5)])/5 for i in range(1,21)])\n"
   ]
  },
  {
   "cell_type": "code",
   "execution_count": 35,
   "metadata": {},
   "outputs": [
    {
     "data": {
      "image/png": "[encoded data removed]",
      "text/plain": [
       "<Figure size 432x288 with 1 Axes>"
      ]
     },
     "metadata": {
      "needs_background": "light"
     },
     "output_type": "display_data"
    }
   ],
   "source": [
    "plt.plot(n,result)\n",
    "plt.xlabel(\"n (number of turns)\")\n",
    "plt.ylabel(\"result value\")\n",
    "plt.title(\"game\")\n",
    "plt.xlim(0, 21)\n",
    "plt.xticks(n)\n",
    "plt.show()"
   ]
  },
  {
   "cell_type": "markdown",
   "metadata": {},
   "source": [
    "## plot for odd n"
   ]
  },
  {
   "cell_type": "code",
   "execution_count": 36,
   "metadata": {},
   "outputs": [],
   "source": [
    "n = np.arange(1,20,2)"
   ]
  },
  {
   "cell_type": "code",
   "execution_count": 37,
   "metadata": {},
   "outputs": [],
   "source": [
    "result = np.array([sum([game(i) for j in range(5)])/5 for i in n])"
   ]
  },
  {
   "cell_type": "code",
   "execution_count": 38,
   "metadata": {},
   "outputs": [
    {
     "data": {
      "image/png": "[encoded data removed]",
      "text/plain": [
       "<Figure size 432x288 with 1 Axes>"
      ]
     },
     "metadata": {
      "needs_background": "light"
     },
     "output_type": "display_data"
    }
   ],
   "source": [
    "plt.plot(n,result)\n",
    "plt.xlabel(\"odd n\")\n",
    "plt.ylabel(\"result value\")\n",
    "plt.title(\"game with odd rounds\")\n",
    "plt.xlim(1, 21)\n",
    "plt.xticks(n)\n",
    "plt.show()"
   ]
  },
  {
   "cell_type": "markdown",
   "metadata": {},
   "source": [
    "## Plot for even n"
   ]
  },
  {
   "cell_type": "code",
   "execution_count": 39,
   "metadata": {},
   "outputs": [
    {
     "data": {
      "image/png": "[encoded data removed]",
      "text/plain": [
       "<Figure size 432x288 with 1 Axes>"
      ]
     },
     "metadata": {
      "needs_background": "light"
     },
     "output_type": "display_data"
    }
   ],
   "source": [
    "n = np.arange(2,21,2)\n",
    "result = np.array([sum([game(i) for j in range(5)])/5 for i in n])\n",
    "plt.plot(n,result)\n",
    "plt.xlabel(\"even n\")\n",
    "plt.ylabel(\"result value\")\n",
    "plt.title(\"game with even rounds\")\n",
    "plt.xlim(1, 21)\n",
    "plt.xticks(n)\n",
    "plt.show()"
   ]
  },
  {
   "cell_type": "markdown",
   "metadata": {},
   "source": [
    "## Put odd and even together"
   ]
  },
  {
   "cell_type": "code",
   "execution_count": null,
   "metadata": {},
   "outputs": [],
   "source": [
    "fig, ax = plt.subplots()\n",
    "ax.set_xlabel('n') \n",
    "ax.plot(n_odd,result_odd,label=\"odd n\")\n",
    "ax.plot(n_even,result_even,label=\"even n\")\n",
    "ax.set_title('game')\n",
    "legend = ax.legend(loc=\"best\", shadow=True)"
   ]
  },
  {
   "cell_type": "code",
   "execution_count": null,
   "metadata": {},
   "outputs": [],
   "source": []
  },
  {
   "cell_type": "code",
   "execution_count": null,
   "metadata": {},
   "outputs": [],
   "source": []
  }
 ],
 "metadata": {
  "kernelspec": {
   "display_name": "Python 3",
   "language": "python",
   "name": "python3"
  },
  "language_info": {
   "codemirror_mode": {
    "name": "ipython",
    "version": 3
   },
   "file_extension": ".py",
   "mimetype": "text/x-python",
   "name": "python",
   "nbconvert_exporter": "python",
   "pygments_lexer": "ipython3",
   "version": "3.7.2"
  }
 },
 "nbformat": 4,
 "nbformat_minor": 4
}
